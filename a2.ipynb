{
 "cells": [
  {
   "cell_type": "markdown",
   "metadata": {},
   "source": [
    "# Install sklearn"
   ]
  },
  {
   "cell_type": "code",
   "execution_count": 38,
   "metadata": {},
   "outputs": [
    {
     "name": "stdout",
     "output_type": "stream",
     "text": [
      "zsh:1: command not found: pip\n",
      "Requirement already satisfied: scikit-learn in /Library/Frameworks/Python.framework/Versions/3.12/lib/python3.12/site-packages (1.4.2)\n",
      "Requirement already satisfied: numpy>=1.19.5 in /Library/Frameworks/Python.framework/Versions/3.12/lib/python3.12/site-packages (from scikit-learn) (1.26.4)\n",
      "Requirement already satisfied: scipy>=1.6.0 in /Library/Frameworks/Python.framework/Versions/3.12/lib/python3.12/site-packages (from scikit-learn) (1.12.0)\n",
      "Requirement already satisfied: joblib>=1.2.0 in /Library/Frameworks/Python.framework/Versions/3.12/lib/python3.12/site-packages (from scikit-learn) (1.4.2)\n",
      "Requirement already satisfied: threadpoolctl>=2.0.0 in /Library/Frameworks/Python.framework/Versions/3.12/lib/python3.12/site-packages (from scikit-learn) (3.5.0)\n"
     ]
    }
   ],
   "source": [
    "!pip install -U scikit-learn\n",
    "!pip3 install -U scikit-learn"
   ]
  },
  {
   "cell_type": "markdown",
   "metadata": {},
   "source": [
    "## Naive Bayes Model"
   ]
  },
  {
   "cell_type": "code",
   "execution_count": 101,
   "metadata": {},
   "outputs": [
    {
     "name": "stdout",
     "output_type": "stream",
     "text": [
      "        id                                           abstract\n",
      "0        1  the 4 202 353 bp genome of the alkaliphilic ba...\n",
      "1        2  the complete 1751377-bp sequence of the genome...\n",
      "2        3  in 1992 we started assembling an ordered libra...\n",
      "3        4  the aim of this study is to measure human mito...\n",
      "4        5  the amino acid sequence of the spirulina maxim...\n",
      "...    ...                                                ...\n",
      "3995  3996  we have isolated and characterized two diureti...\n",
      "3996  3997  myotonias are muscle diseases in which the fun...\n",
      "3997  3998  cysteine synthase o-acetylserine sulfhydrylase...\n",
      "3998  3999  a region of 25 nucleotides is highly conserved...\n",
      "3999  4000  thermoanaerobacter tengcongensis is a rod-shap...\n",
      "\n",
      "[4000 rows x 2 columns]\n"
     ]
    }
   ],
   "source": [
    "import numpy as np\n",
    "import pandas as pd\n",
    "from sklearn.feature_extraction.text import CountVectorizer\n",
    "\n",
    "data = pd.read_csv('trg.csv')\n",
    "vectorizer = CountVectorizer()\n",
    "matrix = vectorizer.fit_transform(data.abstract)\n",
    "\n",
    "data = data.rename(columns={'class': 'class_label'})\n",
    "X = data.drop('class_label', axis=1)\n",
    "y = data['class_label']\n",
    "data  = pd.DataFrame(data= matrix.toarray(), columns = vectorizer.get_feature_names_out())\n",
    "print(X)\n",
    "# data.head()"
   ]
  },
  {
   "cell_type": "code",
   "execution_count": 108,
   "metadata": {},
   "outputs": [
    {
     "name": "stdout",
     "output_type": "stream",
     "text": [
      "Accuracy: 0.81\n"
     ]
    }
   ],
   "source": [
    "import numpy as np\n",
    "from collections import defaultdict\n",
    "from sklearn.model_selection import train_test_split\n",
    "from sklearn.metrics import accuracy_score\n",
    "\n",
    "X_train, X_test, y_train, y_test = train_test_split(X['abstract'], y, test_size=0.4, random_state=42)\n",
    "\n",
    "class NaiveBayes:\n",
    "    def __init__(self, alpha=1):\n",
    "        self.alpha = alpha\n",
    "        self.word_counts = defaultdict(lambda: defaultdict(int))\n",
    "        self.class_counts = defaultdict(int)\n",
    "        self.vocab = set()\n",
    "\n",
    "    def fit(self, X, y):\n",
    "        for abstract, cls in zip(X, y):\n",
    "            self.class_counts[cls] += 1\n",
    "            for word in abstract.split():\n",
    "                self.word_counts[cls][word] += 1\n",
    "                self.vocab.add(word)\n",
    "\n",
    "        self.vocab_size = len(self.vocab)\n",
    "        total_count = len(y)\n",
    "        self.class_priors = {cls: np.log(count) - np.log(total_count) for cls, count in self.class_counts.items()}\n",
    "\n",
    "    def predict(self, X):\n",
    "        predictions = []\n",
    "        for abstract in X:\n",
    "            class_posteriors = {cls: self.class_priors[cls] for cls in self.class_counts}\n",
    "            words = abstract.split()\n",
    "            for cls in self.class_counts:\n",
    "                for word in words:\n",
    "                    if word in self.vocab:\n",
    "                        word_count = self.word_counts[cls].get(word, 0) + self.alpha\n",
    "                        smoothed_count = np.log(word_count) - np.log(self.class_counts[cls] + self.vocab_size * self.alpha)\n",
    "                        class_posteriors[cls] += smoothed_count\n",
    "            predictions.append(max(class_posteriors, key=class_posteriors.get))\n",
    "        return predictions\n",
    "\n",
    "nb_clf = NaiveBayes()\n",
    "nb_clf.fit(X_train, y_train)\n",
    "y_pred = nb_clf.predict(X_test)\n",
    "accuracy = accuracy_score(y_test, y_pred)\n",
    "\n",
    "print(f\"Accuracy: {accuracy:.2f}\")"
   ]
  }
 ],
 "metadata": {
  "kernelspec": {
   "display_name": "Python 3",
   "language": "python",
   "name": "python3"
  },
  "language_info": {
   "codemirror_mode": {
    "name": "ipython",
    "version": 3
   },
   "file_extension": ".py",
   "mimetype": "text/x-python",
   "name": "python",
   "nbconvert_exporter": "python",
   "pygments_lexer": "ipython3",
   "version": "3.12.2"
  }
 },
 "nbformat": 4,
 "nbformat_minor": 2
}
